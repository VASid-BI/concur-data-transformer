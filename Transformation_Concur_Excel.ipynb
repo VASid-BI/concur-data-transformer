{
  "nbformat": 4,
  "nbformat_minor": 0,
  "metadata": {
    "colab": {
      "provenance": []
    },
    "kernelspec": {
      "name": "python3",
      "display_name": "Python 3"
    },
    "language_info": {
      "name": "python"
    }
  },
  "cells": [
    {
      "cell_type": "code",
      "execution_count": 1,
      "metadata": {
        "colab": {
          "base_uri": "https://localhost:8080/"
        },
        "id": "4zzSKB8EE32H",
        "outputId": "437c758a-79a5-403c-bc2c-11a75833170f"
      },
      "outputs": [
        {
          "output_type": "stream",
          "name": "stdout",
          "text": [
            "✅ Extracted 559 rows to 'filtered_output.xlsx'\n"
          ]
        }
      ],
      "source": [
        "import pandas as pd\n",
        "\n",
        "# File paths\n",
        "input_file = \"Rawdra.txt\"\n",
        "output_file = \"filtered_output.xlsx\"\n",
        "\n",
        "# Final field indexes based on confirmed print\n",
        "columns_to_extract = {\n",
        "    \"Date_d_c\": 2,\n",
        "    \"Partner_id\": 79,\n",
        "    \"Quantity_n_c\": 65,\n",
        "    \"UserName_t_c\": (5, 6),  # Last + First\n",
        "    \"Department_t_c\": 9,\n",
        "    \"Purpose_t_c\": 68,\n",
        "    \"Value_n_c\": 248\n",
        "}\n",
        "\n",
        "# Process the file\n",
        "data = []\n",
        "with open(input_file, 'r', encoding='utf-8') as f:\n",
        "    for line in f:\n",
        "        if not line.startswith(\"DETAIL\"):\n",
        "            continue\n",
        "\n",
        "        parts = line.strip().split(\"|\")\n",
        "\n",
        "        # Only process if we have enough fields\n",
        "        try:\n",
        "            row = {}\n",
        "            for col_name, index in columns_to_extract.items():\n",
        "                if isinstance(index, tuple):\n",
        "                    # Combine Last + First name (e.g., Brown + Aubrey)\n",
        "                    row[col_name] = f\"{parts[index[0]]} {parts[index[1]]}\".strip()\n",
        "                else:\n",
        "                    row[col_name] = parts[index]\n",
        "            data.append(row)\n",
        "        except IndexError:\n",
        "            # Skip lines that are shorter than expected\n",
        "            continue\n",
        "\n",
        "# Create and save DataFrame\n",
        "df = pd.DataFrame(data)\n",
        "df.to_excel(output_file, index=False)\n",
        "print(f\"✅ Extracted {len(df)} rows to '{output_file}'\")\n"
      ]
    }
  ]
}